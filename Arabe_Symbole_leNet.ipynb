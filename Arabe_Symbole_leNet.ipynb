{
  "cells": [
    {
      "cell_type": "markdown",
      "source": [
        "# <font color=\"orange\" align=\"center\">  \n",
        "#  <font color=\"orange\" align=\"center\">    Implémentation prediction des symboles arabe utilisant LeNet\n",
        "## <font color=\"orange\"  align=\"center\">           OUMAYMA BERRAADI SIDSD0028/21\n",
        "##   <font color=\"orange\" align=\"center\">   FPL"
      ],
      "metadata": {
        "id": "LmaAQ4mPpxaD"
      }
    },
    {
      "cell_type": "markdown",
      "source": [
        "##   importer les bibliothéque  "
      ],
      "metadata": {
        "id": "XxSLJaRqr8PY"
      }
    },
    {
      "cell_type": "code",
      "execution_count": null,
      "metadata": {
        "id": "KQIgpfuHexX5"
      },
      "outputs": [],
      "source": [
        "import tensorflow as tf\n",
        "from tensorflow.keras.models import Sequential,Model\n",
        "from tensorflow.keras.layers import Conv2D, AveragePooling2D, Flatten, Dense\n",
        "from tensorflow.keras.preprocessing import image\n",
        "from tensorflow.keras.preprocessing.image import ImageDataGenerator,load_img\n",
        "from tensorflow.keras.models import load_model\n",
        "import numpy as np\n",
        "import matplotlib.pyplot as plt\n",
        "import os \n",
        "import cv2\n",
        "import random\n",
        "import time\n",
        "import pandas as pd"
      ]
    },
    {
      "cell_type": "markdown",
      "source": [
        "## Connect to Google Drive"
      ],
      "metadata": {
        "id": "itLAviSYuS11"
      }
    },
    {
      "cell_type": "code",
      "execution_count": null,
      "metadata": {
        "colab": {
          "base_uri": "https://localhost:8080/"
        },
        "id": "sIQWze1ue15P",
        "outputId": "02201606-dc90-4892-e37f-c618fdfb5f6f"
      },
      "outputs": [
        {
          "output_type": "stream",
          "name": "stdout",
          "text": [
            "Drive already mounted at /content/drive/; to attempt to forcibly remount, call drive.mount(\"/content/drive/\", force_remount=True).\n"
          ]
        }
      ],
      "source": [
        "from google.colab import drive\n",
        "drive.mount('/content/drive/')"
      ]
    },
    {
      "cell_type": "markdown",
      "source": [
        "## Importer Dataset"
      ],
      "metadata": {
        "id": "p3JJgGuJuPQR"
      }
    },
    {
      "cell_type": "code",
      "execution_count": null,
      "metadata": {
        "colab": {
          "base_uri": "https://localhost:8080/"
        },
        "id": "JjMYKe0dfW_B",
        "outputId": "16cfffcc-fc76-4196-a738-46ea560ec24b"
      },
      "outputs": [
        {
          "output_type": "stream",
          "name": "stdout",
          "text": [
            "/content/drive/My Drive\n"
          ]
        }
      ],
      "source": [
        "%cd /content/drive/My\\ Drive/\n",
        "train_path = './Colab Notebooks/dataset_arabic/train_data'\n",
        "test_path = './Colab Notebooks/dataset_arabic/test_data'\n",
        "CATEGORIES=[\"ي\",\"و\",\"ه\",\"ن\",\"م\",\"ل\",\"ك\",\"ق\",\"ف\",\"غ\",\"ع\",\"ظ\",\"ط\",\"ض\",\"ص\",\"ش\",\"س\",\"ز\",\"ر\",\"ذ\",\"د\",\"خ\",\"ح\",\"ج\",\"ث\",\"ت\",\"ب\",\"أ\"]\n",
        "IMG_SIZE = 32"
      ]
    },
    {
      "cell_type": "code",
      "execution_count": null,
      "metadata": {
        "id": "WQjBG0QCfyB7",
        "colab": {
          "base_uri": "https://localhost:8080/"
        },
        "outputId": "db8735b8-6a61-49f6-ad4f-3ade2b8f4058"
      },
      "outputs": [
        {
          "output_type": "stream",
          "name": "stdout",
          "text": [
            "13440\n"
          ]
        }
      ],
      "source": [
        "training_data=[]\n",
        "\n",
        "def create_training_data():\n",
        "    for category in CATEGORIES:\n",
        "      path=os.path.join(train_path,category)\n",
        "      class_num=CATEGORIES.index(category)\n",
        "      for img in os.listdir( path ):\n",
        "           try:\n",
        "              img_array=cv2.imread(os.path.join(path,img),cv2.IMREAD_GRAYSCALE)\n",
        "              new_array=cv2.resize(img_array , ( IMG_SIZE ,IMG_SIZE))\n",
        "              training_data.append([new_array , class_num])\n",
        "           except Exception as e:\n",
        "               pass\n",
        "create_training_data()\n",
        "print(len(training_data))"
      ]
    },
    {
      "cell_type": "code",
      "source": [
        "testing_data = []\n",
        "def create_testing_data():\n",
        "  for category in CATEGORIES:\n",
        "      path=os.path.join(test_path,category)\n",
        "      class_num=CATEGORIES.index(category)\n",
        "      for img in os.listdir( path ):\n",
        "           try:\n",
        "              img_array=cv2.imread(os.path.join(path,img),cv2.IMREAD_GRAYSCALE)\n",
        "              new_array=cv2.resize(img_array , ( IMG_SIZE ,IMG_SIZE))\n",
        "              testing_data.append([new_array , class_num])\n",
        "           except Exception as e:\n",
        "               pass\n",
        "create_testing_data()\n",
        "print(len(testing_data))"
      ],
      "metadata": {
        "colab": {
          "base_uri": "https://localhost:8080/"
        },
        "id": "TUYijxIi5Pqi",
        "outputId": "f9862d2e-cdb9-4946-d4cb-0e1f7e2dc7d0"
      },
      "execution_count": null,
      "outputs": [
        {
          "output_type": "stream",
          "name": "stdout",
          "text": [
            "12189\n"
          ]
        }
      ]
    },
    {
      "cell_type": "markdown",
      "source": [
        "## Prepare DataSet"
      ],
      "metadata": {
        "id": "lXRoixwpuj_z"
      }
    },
    {
      "cell_type": "code",
      "source": [
        "# keras importe pour l'ensemble de données et construction de notre réseau neuronal\n",
        "import keras\n",
        "\n",
        "# encodage one-hot en utilisant les utilitaires numpy de Keras\n",
        "\n",
        "random.shuffle(training_data)\n",
        "random.shuffle(testing_data)\n",
        "\n",
        "X_train = []\n",
        "y_train = []\n",
        "\n",
        "for features,label in training_data:\n",
        "    X_train.append(features)\n",
        "    y_train.append(label)\n",
        "\n",
        "X_train= np.array(X_train).reshape(-1, IMG_SIZE, IMG_SIZE, 1)\n",
        "\n",
        "X_test = []\n",
        "y_test = []\n",
        "\n",
        "for features,label in testing_data:\n",
        "    X_test.append(features)\n",
        "    y_test.append(label)\n",
        "\n",
        "X_test = np.array(X_test).reshape(-1, IMG_SIZE, IMG_SIZE, 1)\n",
        "\n",
        "# normaliser les données pour aider à la formation\n",
        "\n",
        "X_train = X_train/255.0\n",
        "X_test = X_test/255.0"
      ],
      "metadata": {
        "id": "UN6G1oOT66hO"
      },
      "execution_count": null,
      "outputs": []
    },
    {
      "cell_type": "code",
      "source": [
        "from tensorflow.keras.preprocessing.image import ImageDataGenerator\n",
        "datagen = ImageDataGenerator(\n",
        "    rotation_range=10,\n",
        "    zoom_range = 0.1,\n",
        "    width_shift_range=0.1,\n",
        "    height_shift_range=0.1,\n",
        "    horizontal_flip=False,\n",
        "    vertical_flip=False\n",
        ")\n",
        "\n",
        "datagen.fit(X_train)"
      ],
      "metadata": {
        "id": "CJPwb7Ds6_FK"
      },
      "execution_count": null,
      "outputs": []
    },
    {
      "cell_type": "markdown",
      "source": [
        "## Create LeNet Model using librairie keras and View Model structure with Summary Function"
      ],
      "metadata": {
        "id": "Sq9gnpB7uwc_"
      }
    },
    {
      "cell_type": "code",
      "execution_count": null,
      "metadata": {
        "colab": {
          "base_uri": "https://localhost:8080/"
        },
        "id": "CNQYnMnpi7NB",
        "outputId": "e956229d-d52f-419a-8f98-7aee674c41c3"
      },
      "outputs": [
        {
          "output_type": "stream",
          "name": "stdout",
          "text": [
            "Model: \"sequential_3\"\n",
            "_________________________________________________________________\n",
            " Layer (type)                Output Shape              Param #   \n",
            "=================================================================\n",
            " conv2d_9 (Conv2D)           (None, 32, 32, 6)         156       \n",
            "                                                                 \n",
            " average_pooling2d_6 (Averag  (None, 16, 16, 6)        0         \n",
            " ePooling2D)                                                     \n",
            "                                                                 \n",
            " conv2d_10 (Conv2D)          (None, 12, 12, 16)        2416      \n",
            "                                                                 \n",
            " average_pooling2d_7 (Averag  (None, 6, 6, 16)         0         \n",
            " ePooling2D)                                                     \n",
            "                                                                 \n",
            " conv2d_11 (Conv2D)          (None, 2, 2, 120)         48120     \n",
            "                                                                 \n",
            " flatten_3 (Flatten)         (None, 480)               0         \n",
            "                                                                 \n",
            " dense_6 (Dense)             (None, 84)                40404     \n",
            "                                                                 \n",
            " dense_7 (Dense)             (None, 28)                2380      \n",
            "                                                                 \n",
            "=================================================================\n",
            "Total params: 93,476\n",
            "Trainable params: 93,476\n",
            "Non-trainable params: 0\n",
            "_________________________________________________________________\n"
          ]
        }
      ],
      "source": [
        "\n",
        "model = Sequential()\n",
        "# C1 Convolutional Layer\n",
        "model.add(Conv2D(filters = 6, kernel_size = (5,5), padding = 'same', strides = 1, activation = 'tanh', input_shape = (32,32,1)))\n",
        " \n",
        "# S2 Pooling Layer\n",
        "model.add(AveragePooling2D(pool_size = 2, strides = 2, padding = 'valid'))\n",
        " \n",
        "# C3 Convolutional Layer\n",
        "model.add(Conv2D(filters = 16, kernel_size = 5, strides = 1,activation = 'tanh', padding = 'valid'))\n",
        "# S4 Pooling Layer\n",
        "model.add(AveragePooling2D(pool_size = 2, strides = 2, padding = 'valid'))\n",
        " \n",
        "# C5 Convolutional Layer\n",
        "model.add(Conv2D(filters = 120, kernel_size = 5, strides = 1,activation = 'tanh', padding = 'valid'))\n",
        " \n",
        "# Flatten the CNN output to feed it with fully connected layers\n",
        "model.add(Flatten())\n",
        " \n",
        "# FC6 Fully Connected Layer\n",
        "model.add(Dense(units = 84, activation = 'tanh'))\n",
        "# FC7 Output layer with softmax activation\n",
        "model.add(Dense(units = 28, activation = 'softmax'))\n",
        "\n",
        "# en regardant le résumé du modèle\n",
        "model.summary()"
      ]
    },
    {
      "cell_type": "code",
      "source": [
        "X_train = np.array(X_train)\n",
        "y_train = np.array(y_train)\n",
        "\n",
        "X_test = np.array(X_test)\n",
        "y_test = np.array(y_test)"
      ],
      "metadata": {
        "id": "efRfLTRu7Kup"
      },
      "execution_count": null,
      "outputs": []
    },
    {
      "cell_type": "markdown",
      "source": [
        "## Compile The Model"
      ],
      "metadata": {
        "id": "NJdjuNnPveHI"
      }
    },
    {
      "cell_type": "code",
      "execution_count": null,
      "metadata": {
        "id": "HAJgXjZMk5wv"
      },
      "outputs": [],
      "source": [
        "model.compile(loss='sparse_categorical_crossentropy', optimizer='adam', metrics=['accuracy'])"
      ]
    },
    {
      "cell_type": "markdown",
      "source": [
        "## Trainning and Evaluating The Model Then Save it in file.h5\n",
        "\n"
      ],
      "metadata": {
        "id": "RXCUP6TevkOC"
      }
    },
    {
      "cell_type": "code",
      "execution_count": null,
      "metadata": {
        "colab": {
          "base_uri": "https://localhost:8080/"
        },
        "id": "nuEmHEBelaIh",
        "outputId": "1260148f-c602-4e98-f6d9-373249d560f9"
      },
      "outputs": [
        {
          "output_type": "stream",
          "name": "stdout",
          "text": [
            "Epoch 1/100\n",
            "420/420 [==============================] - 13s 30ms/step - loss: 1.9883 - accuracy: 0.4047\n",
            "Epoch 2/100\n",
            "420/420 [==============================] - 13s 30ms/step - loss: 1.1766 - accuracy: 0.6391\n",
            "Epoch 3/100\n",
            "420/420 [==============================] - 13s 30ms/step - loss: 0.8259 - accuracy: 0.7435\n",
            "Epoch 4/100\n",
            "420/420 [==============================] - 13s 31ms/step - loss: 0.6546 - accuracy: 0.7911\n",
            "Epoch 5/100\n",
            "420/420 [==============================] - 13s 31ms/step - loss: 0.5290 - accuracy: 0.8332\n",
            "Epoch 6/100\n",
            "420/420 [==============================] - 13s 32ms/step - loss: 0.4473 - accuracy: 0.8551\n",
            "Epoch 7/100\n",
            "420/420 [==============================] - 13s 30ms/step - loss: 0.3887 - accuracy: 0.8760\n",
            "Epoch 8/100\n",
            "420/420 [==============================] - 12s 29ms/step - loss: 0.3332 - accuracy: 0.8925\n",
            "Epoch 9/100\n",
            "420/420 [==============================] - 12s 29ms/step - loss: 0.2958 - accuracy: 0.9068\n",
            "Epoch 10/100\n",
            "420/420 [==============================] - 12s 28ms/step - loss: 0.2474 - accuracy: 0.9246\n",
            "Epoch 11/100\n",
            "420/420 [==============================] - 12s 28ms/step - loss: 0.2263 - accuracy: 0.9278\n",
            "Epoch 12/100\n",
            "420/420 [==============================] - 12s 29ms/step - loss: 0.1990 - accuracy: 0.9390\n",
            "Epoch 13/100\n",
            "420/420 [==============================] - 12s 29ms/step - loss: 0.1757 - accuracy: 0.9458\n",
            "Epoch 14/100\n",
            "420/420 [==============================] - 12s 30ms/step - loss: 0.1508 - accuracy: 0.9556\n",
            "Epoch 15/100\n",
            "420/420 [==============================] - 12s 29ms/step - loss: 0.1338 - accuracy: 0.9603\n",
            "Epoch 16/100\n",
            "420/420 [==============================] - 12s 29ms/step - loss: 0.1246 - accuracy: 0.9621\n",
            "Epoch 17/100\n",
            "420/420 [==============================] - 12s 29ms/step - loss: 0.1076 - accuracy: 0.9678\n",
            "Epoch 18/100\n",
            "420/420 [==============================] - 12s 29ms/step - loss: 0.0957 - accuracy: 0.9732\n",
            "Epoch 19/100\n",
            "420/420 [==============================] - 12s 30ms/step - loss: 0.0740 - accuracy: 0.9800\n",
            "Epoch 20/100\n",
            "420/420 [==============================] - 12s 30ms/step - loss: 0.0962 - accuracy: 0.9706\n",
            "Epoch 21/100\n",
            "420/420 [==============================] - 13s 30ms/step - loss: 0.0635 - accuracy: 0.9832\n",
            "Epoch 22/100\n",
            "420/420 [==============================] - 13s 30ms/step - loss: 0.0526 - accuracy: 0.9878\n",
            "Epoch 23/100\n",
            "420/420 [==============================] - 13s 30ms/step - loss: 0.0540 - accuracy: 0.9862\n",
            "Epoch 24/100\n",
            "420/420 [==============================] - 13s 31ms/step - loss: 0.0529 - accuracy: 0.9865\n",
            "Epoch 25/100\n",
            "420/420 [==============================] - 13s 30ms/step - loss: 0.0807 - accuracy: 0.9762\n",
            "Epoch 26/100\n",
            "420/420 [==============================] - 13s 30ms/step - loss: 0.0353 - accuracy: 0.9924\n",
            "Epoch 27/100\n",
            "420/420 [==============================] - 13s 31ms/step - loss: 0.0187 - accuracy: 0.9976\n",
            "Epoch 28/100\n",
            "420/420 [==============================] - 13s 31ms/step - loss: 0.0352 - accuracy: 0.9918\n",
            "Epoch 29/100\n",
            "420/420 [==============================] - 13s 30ms/step - loss: 0.0963 - accuracy: 0.9683\n",
            "Epoch 30/100\n",
            "420/420 [==============================] - 13s 31ms/step - loss: 0.0545 - accuracy: 0.9842\n",
            "Epoch 31/100\n",
            "420/420 [==============================] - 12s 30ms/step - loss: 0.0153 - accuracy: 0.9983\n",
            "Epoch 32/100\n",
            "420/420 [==============================] - 13s 30ms/step - loss: 0.0092 - accuracy: 0.9990\n",
            "Epoch 33/100\n",
            "420/420 [==============================] - 13s 32ms/step - loss: 0.0066 - accuracy: 0.9994\n",
            "Epoch 34/100\n",
            "420/420 [==============================] - 13s 31ms/step - loss: 0.1439 - accuracy: 0.9490\n",
            "Epoch 35/100\n",
            "420/420 [==============================] - 13s 31ms/step - loss: 0.0591 - accuracy: 0.9824\n",
            "Epoch 36/100\n",
            "420/420 [==============================] - 13s 31ms/step - loss: 0.0183 - accuracy: 0.9967\n",
            "Epoch 37/100\n",
            "420/420 [==============================] - 13s 30ms/step - loss: 0.0090 - accuracy: 0.9990\n",
            "Epoch 38/100\n",
            "420/420 [==============================] - 13s 30ms/step - loss: 0.0047 - accuracy: 0.9999\n",
            "Epoch 39/100\n",
            "420/420 [==============================] - 13s 30ms/step - loss: 0.0079 - accuracy: 0.9984\n",
            "Epoch 40/100\n",
            "420/420 [==============================] - 13s 30ms/step - loss: 0.1424 - accuracy: 0.9502\n",
            "Epoch 41/100\n",
            "420/420 [==============================] - 13s 31ms/step - loss: 0.0543 - accuracy: 0.9835\n",
            "Epoch 42/100\n",
            "420/420 [==============================] - 13s 30ms/step - loss: 0.0116 - accuracy: 0.9985\n",
            "Epoch 43/100\n",
            "420/420 [==============================] - 13s 30ms/step - loss: 0.0066 - accuracy: 0.9996\n",
            "Epoch 44/100\n",
            "420/420 [==============================] - 13s 31ms/step - loss: 0.0031 - accuracy: 1.0000\n",
            "Epoch 45/100\n",
            "420/420 [==============================] - 13s 31ms/step - loss: 0.0023 - accuracy: 1.0000\n",
            "Epoch 46/100\n",
            "420/420 [==============================] - 13s 30ms/step - loss: 0.0018 - accuracy: 1.0000\n",
            "Epoch 47/100\n",
            "420/420 [==============================] - 13s 30ms/step - loss: 0.0016 - accuracy: 1.0000\n",
            "Epoch 48/100\n",
            "420/420 [==============================] - 13s 31ms/step - loss: 0.0014 - accuracy: 1.0000\n",
            "Epoch 49/100\n",
            "420/420 [==============================] - 13s 30ms/step - loss: 0.0012 - accuracy: 1.0000\n",
            "Epoch 50/100\n",
            "420/420 [==============================] - 13s 30ms/step - loss: 0.0010 - accuracy: 1.0000\n",
            "Epoch 51/100\n",
            "420/420 [==============================] - 13s 31ms/step - loss: 9.2117e-04 - accuracy: 1.0000\n",
            "Epoch 52/100\n",
            "420/420 [==============================] - 13s 31ms/step - loss: 7.9552e-04 - accuracy: 1.0000\n",
            "Epoch 53/100\n",
            "420/420 [==============================] - 13s 32ms/step - loss: 6.9910e-04 - accuracy: 1.0000\n",
            "Epoch 54/100\n",
            "420/420 [==============================] - 13s 31ms/step - loss: 6.2400e-04 - accuracy: 1.0000\n",
            "Epoch 55/100\n",
            "420/420 [==============================] - 13s 31ms/step - loss: 0.2817 - accuracy: 0.9168\n",
            "Epoch 56/100\n",
            "420/420 [==============================] - 13s 31ms/step - loss: 0.2079 - accuracy: 0.9297\n",
            "Epoch 57/100\n",
            "420/420 [==============================] - 15s 36ms/step - loss: 0.0629 - accuracy: 0.9790\n",
            "Epoch 58/100\n",
            "420/420 [==============================] - 13s 32ms/step - loss: 0.0305 - accuracy: 0.9917\n",
            "Epoch 59/100\n",
            "420/420 [==============================] - 13s 31ms/step - loss: 0.0168 - accuracy: 0.9972\n",
            "Epoch 60/100\n",
            "420/420 [==============================] - 13s 32ms/step - loss: 0.0065 - accuracy: 0.9999\n",
            "Epoch 61/100\n",
            "420/420 [==============================] - 13s 31ms/step - loss: 0.0033 - accuracy: 1.0000\n",
            "Epoch 62/100\n",
            "420/420 [==============================] - 13s 30ms/step - loss: 0.0025 - accuracy: 1.0000\n",
            "Epoch 63/100\n",
            "420/420 [==============================] - 13s 31ms/step - loss: 0.0020 - accuracy: 1.0000\n",
            "Epoch 64/100\n",
            "420/420 [==============================] - 13s 32ms/step - loss: 0.0017 - accuracy: 1.0000\n",
            "Epoch 65/100\n",
            "420/420 [==============================] - 14s 34ms/step - loss: 0.0014 - accuracy: 1.0000\n",
            "Epoch 66/100\n",
            "420/420 [==============================] - 13s 30ms/step - loss: 0.0012 - accuracy: 1.0000\n",
            "Epoch 67/100\n",
            "420/420 [==============================] - 13s 30ms/step - loss: 0.0011 - accuracy: 1.0000\n",
            "Epoch 68/100\n",
            "420/420 [==============================] - 13s 30ms/step - loss: 9.0836e-04 - accuracy: 1.0000\n",
            "Epoch 69/100\n",
            "420/420 [==============================] - 14s 32ms/step - loss: 7.7877e-04 - accuracy: 1.0000\n",
            "Epoch 70/100\n",
            "420/420 [==============================] - 14s 33ms/step - loss: 6.7081e-04 - accuracy: 1.0000\n",
            "Epoch 71/100\n",
            "420/420 [==============================] - 13s 31ms/step - loss: 5.7835e-04 - accuracy: 1.0000\n",
            "Epoch 72/100\n",
            "420/420 [==============================] - 13s 30ms/step - loss: 4.8521e-04 - accuracy: 1.0000\n",
            "Epoch 73/100\n",
            "420/420 [==============================] - 13s 32ms/step - loss: 4.1755e-04 - accuracy: 1.0000\n",
            "Epoch 74/100\n",
            "420/420 [==============================] - 13s 31ms/step - loss: 3.5934e-04 - accuracy: 1.0000\n",
            "Epoch 75/100\n",
            "420/420 [==============================] - 13s 31ms/step - loss: 3.1487e-04 - accuracy: 1.0000\n",
            "Epoch 76/100\n",
            "420/420 [==============================] - 13s 31ms/step - loss: 2.5602e-04 - accuracy: 1.0000\n",
            "Epoch 77/100\n",
            "420/420 [==============================] - 13s 30ms/step - loss: 2.1373e-04 - accuracy: 1.0000\n",
            "Epoch 78/100\n",
            "420/420 [==============================] - 13s 30ms/step - loss: 0.3482 - accuracy: 0.8993\n",
            "Epoch 79/100\n",
            "420/420 [==============================] - 13s 31ms/step - loss: 0.1599 - accuracy: 0.9453\n",
            "Epoch 80/100\n",
            "420/420 [==============================] - 12s 29ms/step - loss: 0.0537 - accuracy: 0.9830\n",
            "Epoch 81/100\n",
            "420/420 [==============================] - 13s 31ms/step - loss: 0.0261 - accuracy: 0.9929\n",
            "Epoch 82/100\n",
            "420/420 [==============================] - 13s 30ms/step - loss: 0.0117 - accuracy: 0.9978\n",
            "Epoch 83/100\n",
            "420/420 [==============================] - 13s 30ms/step - loss: 0.0046 - accuracy: 0.9997\n",
            "Epoch 84/100\n",
            "420/420 [==============================] - 13s 30ms/step - loss: 0.0023 - accuracy: 1.0000\n",
            "Epoch 85/100\n",
            "420/420 [==============================] - 12s 30ms/step - loss: 0.0016 - accuracy: 1.0000\n",
            "Epoch 86/100\n",
            "420/420 [==============================] - 13s 30ms/step - loss: 0.0013 - accuracy: 1.0000\n",
            "Epoch 87/100\n",
            "420/420 [==============================] - 13s 31ms/step - loss: 0.0011 - accuracy: 1.0000\n",
            "Epoch 88/100\n",
            "420/420 [==============================] - 13s 31ms/step - loss: 9.5747e-04 - accuracy: 1.0000\n",
            "Epoch 89/100\n",
            "420/420 [==============================] - 13s 32ms/step - loss: 8.2239e-04 - accuracy: 1.0000\n",
            "Epoch 90/100\n",
            "420/420 [==============================] - 13s 31ms/step - loss: 7.1244e-04 - accuracy: 1.0000\n",
            "Epoch 91/100\n",
            "420/420 [==============================] - 13s 31ms/step - loss: 6.1682e-04 - accuracy: 1.0000\n",
            "Epoch 92/100\n",
            "420/420 [==============================] - 13s 30ms/step - loss: 5.2983e-04 - accuracy: 1.0000\n",
            "Epoch 93/100\n",
            "420/420 [==============================] - 13s 31ms/step - loss: 4.5679e-04 - accuracy: 1.0000\n",
            "Epoch 94/100\n",
            "420/420 [==============================] - 13s 31ms/step - loss: 3.9292e-04 - accuracy: 1.0000\n",
            "Epoch 95/100\n",
            "420/420 [==============================] - 13s 31ms/step - loss: 3.3560e-04 - accuracy: 1.0000\n",
            "Epoch 96/100\n",
            "420/420 [==============================] - 15s 36ms/step - loss: 2.8897e-04 - accuracy: 1.0000\n",
            "Epoch 97/100\n",
            "420/420 [==============================] - 13s 30ms/step - loss: 2.4446e-04 - accuracy: 1.0000\n",
            "Epoch 98/100\n",
            "420/420 [==============================] - 12s 30ms/step - loss: 2.0861e-04 - accuracy: 1.0000\n",
            "Epoch 99/100\n",
            "420/420 [==============================] - 13s 31ms/step - loss: 1.7488e-04 - accuracy: 1.0000\n",
            "Epoch 100/100\n",
            "420/420 [==============================] - 13s 31ms/step - loss: 1.4777e-04 - accuracy: 1.0000\n",
            "381/381 [==============================] - 6s 15ms/step - loss: 1.2123e-04 - accuracy: 1.0000\n",
            "0.00012123169290134683\n",
            "1.0\n"
          ]
        }
      ],
      "source": [
        "model.fit(X_train, y_train ,epochs=100)\n",
        "val_loss, val_acc = model.evaluate(X_test, y_test)  # evaluate the out of sample data with model\n",
        "print(val_loss)  # model's loss (error)\n",
        "print(val_acc)\n",
        "model.save('ARABE_SY_model.h5')"
      ]
    },
    {
      "cell_type": "markdown",
      "source": [
        "## Load the Model with load_model Function"
      ],
      "metadata": {
        "id": "8d2tS158wHuX"
      }
    },
    {
      "cell_type": "code",
      "execution_count": null,
      "metadata": {
        "id": "7zBJcxr30ga0"
      },
      "outputs": [],
      "source": [
        "model=load_model('ARABE_SY_model.h5')"
      ]
    },
    {
      "cell_type": "markdown",
      "source": [
        "## Upload the photo From Drive"
      ],
      "metadata": {
        "id": "gdVaO8AEwP20"
      }
    },
    {
      "cell_type": "code",
      "execution_count": null,
      "metadata": {
        "colab": {
          "base_uri": "https://localhost:8080/"
        },
        "id": "Y0TR8KLn0stC",
        "outputId": "4eecc5bb-8b9e-490c-869c-f6adbcb65fa0"
      },
      "outputs": [
        {
          "output_type": "stream",
          "name": "stdout",
          "text": [
            "/content/drive/My Drive\n"
          ]
        }
      ],
      "source": [
        "%cd /content/drive/My\\ Drive/\n",
        "img_array=cv2.imread('id_1_label_1.png',cv2.IMREAD_GRAYSCALE)\n",
        "new_array=cv2.resize(img_array , ( 32 ,32))"
      ]
    },
    {
      "cell_type": "markdown",
      "source": [
        "## Do the Predict of image with Model .h5"
      ],
      "metadata": {
        "id": "WZ4zKjKZwY2u"
      }
    },
    {
      "cell_type": "code",
      "execution_count": null,
      "metadata": {
        "id": "cvZmZwE01QMu"
      },
      "outputs": [],
      "source": [
        "pred = model.predict(np.array(new_array).reshape(-1, IMG_SIZE, IMG_SIZE, 1))"
      ]
    },
    {
      "cell_type": "markdown",
      "source": [
        "## Show the Categorie of higher predict of image"
      ],
      "metadata": {
        "id": "XBz0RnVwxe17"
      }
    },
    {
      "cell_type": "code",
      "execution_count": null,
      "metadata": {
        "colab": {
          "base_uri": "https://localhost:8080/",
          "height": 301
        },
        "id": "Fg2pCw7C1VQt",
        "outputId": "e4479613-c549-4467-fe5d-b99468b70ac3"
      },
      "outputs": [
        {
          "output_type": "stream",
          "name": "stdout",
          "text": [
            "أ\n"
          ]
        },
        {
          "output_type": "execute_result",
          "data": {
            "text/plain": [
              "<matplotlib.image.AxesImage at 0x7f154678d450>"
            ]
          },
          "metadata": {},
          "execution_count": 83
        },
        {
          "output_type": "display_data",
          "data": {
            "text/plain": [
              "<Figure size 432x288 with 1 Axes>"
            ],
            "image/png": "[encoded data removed]"
          },
          "metadata": {
            "needs_background": "light"
          }
        }
      ],
      "source": [
        "prediction_max = np.argmax(pred[0,:])    \n",
        "print(CATEGORIES[prediction_max] ) \n",
        "plt.imshow(img_array)"
      ]
    },
    {
      "cell_type": "code",
      "source": [
        "%cd /content/drive/My\\ Drive/\n",
        "img_array=cv2.imread('id_217_label_28.png',cv2.IMREAD_GRAYSCALE)\n",
        "new_array=cv2.resize(img_array , ( 32 ,32))\n",
        "pred = model.predict(np.array(new_array).reshape(-1, IMG_SIZE, IMG_SIZE, 1))\n",
        "prediction_max = np.argmax(pred[0,:])    \n",
        "print(CATEGORIES[prediction_max])  \n",
        "plt.imshow(img_array)"
      ],
      "metadata": {
        "colab": {
          "base_uri": "https://localhost:8080/",
          "height": 318
        },
        "id": "BIz95fYEFHyo",
        "outputId": "f2c81d42-f2f2-4152-fb44-d8972c58f270"
      },
      "execution_count": null,
      "outputs": [
        {
          "output_type": "stream",
          "name": "stdout",
          "text": [
            "/content/drive/My Drive\n",
            "ي\n"
          ]
        },
        {
          "output_type": "execute_result",
          "data": {
            "text/plain": [
              "<matplotlib.image.AxesImage at 0x7f1546eb0c90>"
            ]
          },
          "metadata": {},
          "execution_count": 79
        },
        {
          "output_type": "display_data",
          "data": {
            "text/plain": [
              "<Figure size 432x288 with 1 Axes>"
            ],
            "image/png": "[encoded data removed]"
          },
          "metadata": {
            "needs_background": "light"
          }
        }
      ]
    },
    {
      "cell_type": "code",
      "source": [
        "%cd /content/drive/My\\ Drive/\n",
        "img_array=cv2.imread('id_153_label_20.png',cv2.IMREAD_GRAYSCALE)\n",
        "new_array=cv2.resize(img_array , ( 32 ,32))\n",
        "pred = model.predict(np.array(new_array).reshape(-1, IMG_SIZE, IMG_SIZE, 1))\n",
        "prediction_max = np.argmax(pred[0,:])    \n",
        "print(CATEGORIES[prediction_max] ) \n",
        "plt.imshow(img_array)"
      ],
      "metadata": {
        "colab": {
          "base_uri": "https://localhost:8080/",
          "height": 318
        },
        "id": "qRLsjQxmSVCh",
        "outputId": "61054b92-9321-4e05-a598-ea3e14bf2972"
      },
      "execution_count": null,
      "outputs": [
        {
          "output_type": "stream",
          "name": "stdout",
          "text": [
            "/content/drive/My Drive\n",
            "ف\n"
          ]
        },
        {
          "output_type": "execute_result",
          "data": {
            "text/plain": [
              "<matplotlib.image.AxesImage at 0x7f1546705390>"
            ]
          },
          "metadata": {},
          "execution_count": 84
        },
        {
          "output_type": "display_data",
          "data": {
            "text/plain": [
              "<Figure size 432x288 with 1 Axes>"
            ],
            "image/png": "[encoded data removed]"
          },
          "metadata": {
            "needs_background": "light"
          }
        }
      ]
    },
    {
      "cell_type": "code",
      "source": [
        "%cd /content/drive/My\\ Drive/\n",
        "img_array=cv2.imread('id_258_label_5.png',cv2.IMREAD_GRAYSCALE)\n",
        "new_array=cv2.resize(img_array , ( 32 ,32))\n",
        "pred = model.predict(np.array(new_array).reshape(-1, IMG_SIZE, IMG_SIZE, 1))\n",
        "prediction_max = np.argmax(pred[0,:])    \n",
        "print(CATEGORIES[prediction_max])\n",
        "plt.imshow(img_array)  "
      ],
      "metadata": {
        "colab": {
          "base_uri": "https://localhost:8080/",
          "height": 318
        },
        "id": "DSFABKKZSfwf",
        "outputId": "507dfc31-24cf-4992-8d75-02dd947596c6"
      },
      "execution_count": null,
      "outputs": [
        {
          "output_type": "stream",
          "name": "stdout",
          "text": [
            "/content/drive/My Drive\n",
            "ج\n"
          ]
        },
        {
          "output_type": "execute_result",
          "data": {
            "text/plain": [
              "<matplotlib.image.AxesImage at 0x7f15466f0090>"
            ]
          },
          "metadata": {},
          "execution_count": 85
        },
        {
          "output_type": "display_data",
          "data": {
            "text/plain": [
              "<Figure size 432x288 with 1 Axes>"
            ],
            "image/png": "[encoded data removed]"
          },
          "metadata": {
            "needs_background": "light"
          }
        }
      ]
    },
    {
      "cell_type": "code",
      "source": [
        "%cd /content/drive/My\\ Drive/\n",
        "img_array=cv2.imread('id_41_label_6.png',cv2.IMREAD_GRAYSCALE)\n",
        "new_array=cv2.resize(img_array , ( 32 ,32))\n",
        "pred = model.predict(np.array(new_array).reshape(-1, IMG_SIZE, IMG_SIZE, 1))\n",
        "prediction_max = np.argmax(pred[0,:])    \n",
        "print(CATEGORIES[prediction_max]  )\n",
        "plt.imshow(img_array)  "
      ],
      "metadata": {
        "colab": {
          "base_uri": "https://localhost:8080/",
          "height": 318
        },
        "id": "M7RNPbExTQNv",
        "outputId": "71a8fef8-2ed1-47e7-e1f0-4f5c78ecb533"
      },
      "execution_count": null,
      "outputs": [
        {
          "output_type": "stream",
          "name": "stdout",
          "text": [
            "/content/drive/My Drive\n",
            "ح\n"
          ]
        },
        {
          "output_type": "execute_result",
          "data": {
            "text/plain": [
              "<matplotlib.image.AxesImage at 0x7f154665a190>"
            ]
          },
          "metadata": {},
          "execution_count": 86
        },
        {
          "output_type": "display_data",
          "data": {
            "text/plain": [
              "<Figure size 432x288 with 1 Axes>"
            ],
            "image/png": "[encoded data removed]"
          },
          "metadata": {
            "needs_background": "light"
          }
        }
      ]
    }
  ],
  "metadata": {
    "colab": {
      "collapsed_sections": [],
      "name": "Arabe_Symbole_leNet.ipynb",
      "provenance": []
    },
    "kernelspec": {
      "display_name": "Python 3",
      "name": "python3"
    },
    "language_info": {
      "name": "python"
    }
  },
  "nbformat": 4,
  "nbformat_minor": 0
}